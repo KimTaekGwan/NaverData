{
 "cells": [
  {
   "cell_type": "code",
   "execution_count": 1,
   "metadata": {},
   "outputs": [],
   "source": [
    "import time\n",
    "# Selenium 모듈에서 webdriver를 가져옵니다.\n",
    "from selenium import webdriver\n",
    "# Chrome 브라우저 옵션을 다루는 Options 클래스를 가져옵니다.\n",
    "from selenium.webdriver.chrome.options import Options\n",
    "# Chrome 드라이버 서비스를 다루는 Service 클래스를 가져옵니다.\n",
    "from selenium.webdriver.chrome.service import Service\n",
    "# Chrome 드라이버를 다운로드하고 설치하는 데 사용되는 ChromeDriverManager를 가져옵니다.\n",
    "from webdriver_manager.chrome import ChromeDriverManager"
   ]
  },
  {
   "cell_type": "code",
   "execution_count": 10,
   "metadata": {},
   "outputs": [],
   "source": [
    "import re"
   ]
  },
  {
   "cell_type": "code",
   "execution_count": 27,
   "metadata": {},
   "outputs": [],
   "source": [
    "options = Options()\n",
    "options.add_experimental_option('detach', True)\n",
    "options.add_experimental_option('excludeSwitches', ['enable-logging'])\n",
    "service = Service(ChromeDriverManager().install())\n",
    "driver = webdriver.Chrome(service=service, options=options)"
   ]
  },
  {
   "cell_type": "code",
   "execution_count": 28,
   "metadata": {},
   "outputs": [],
   "source": [
    "link = 'https://search.shopping.naver.com/gate.nhn?id=11259655619'\n",
    "driver.get(link)\n",
    "time.sleep(2)"
   ]
  },
  {
   "attachments": {},
   "cell_type": "markdown",
   "metadata": {},
   "source": []
  },
  {
   "cell_type": "code",
   "execution_count": 84,
   "metadata": {},
   "outputs": [
    {
     "ename": "NoSuchElementException",
     "evalue": "Message: no such element: Unable to locate element: {\"method\":\"xpath\",\"selector\":\"//*[@id=\"wrap\"]/div[2]/a[2]\"}\n  (Session info: chrome=113.0.5672.92)\nStacktrace:\n0   chromedriver                        0x000000010491b8ac chromedriver + 4257964\n1   chromedriver                        0x0000000104913f40 chromedriver + 4226880\n2   chromedriver                        0x00000001045509d4 chromedriver + 281044\n3   chromedriver                        0x000000010458ba34 chromedriver + 522804\n4   chromedriver                        0x00000001045c27e4 chromedriver + 747492\n5   chromedriver                        0x000000010457f98c chromedriver + 473484\n6   chromedriver                        0x000000010458098c chromedriver + 477580\n7   chromedriver                        0x00000001048da900 chromedriver + 3991808\n8   chromedriver                        0x00000001048de354 chromedriver + 4006740\n9   chromedriver                        0x00000001048de940 chromedriver + 4008256\n10  chromedriver                        0x00000001048e433c chromedriver + 4031292\n11  chromedriver                        0x00000001048def34 chromedriver + 4009780\n12  chromedriver                        0x00000001048b7490 chromedriver + 3847312\n13  chromedriver                        0x00000001048fc9f4 chromedriver + 4131316\n14  chromedriver                        0x00000001048fcb4c chromedriver + 4131660\n15  chromedriver                        0x000000010490d230 chromedriver + 4198960\n16  libsystem_pthread.dylib             0x000000018b603fa8 _pthread_start + 148\n17  libsystem_pthread.dylib             0x000000018b5feda0 thread_start + 8\n",
     "output_type": "error",
     "traceback": [
      "\u001b[0;31m---------------------------------------------------------------------------\u001b[0m",
      "\u001b[0;31mNoSuchElementException\u001b[0m                    Traceback (most recent call last)",
      "Cell \u001b[0;32mIn[84], line 5\u001b[0m\n\u001b[1;32m      3\u001b[0m \u001b[39m# 사러가기 클릭\u001b[39;00m\n\u001b[1;32m      4\u001b[0m xpath \u001b[39m=\u001b[39m \u001b[39m'\u001b[39m\u001b[39m//*[@id=\u001b[39m\u001b[39m\"\u001b[39m\u001b[39mwrap\u001b[39m\u001b[39m\"\u001b[39m\u001b[39m]/div[2]/a[2]\u001b[39m\u001b[39m'\u001b[39m\n\u001b[0;32m----> 5\u001b[0m element \u001b[39m=\u001b[39m driver\u001b[39m.\u001b[39;49mfind_element(By\u001b[39m.\u001b[39;49mXPATH, xpath)\n\u001b[1;32m      6\u001b[0m category_1 \u001b[39m=\u001b[39m {idx: name \u001b[39mfor\u001b[39;00m idx, name \u001b[39min\u001b[39;00m \u001b[39menumerate\u001b[39m(\n\u001b[1;32m      7\u001b[0m     element\u001b[39m.\u001b[39mtext\u001b[39m.\u001b[39msplit(\u001b[39m'\u001b[39m\u001b[39m\\n\u001b[39;00m\u001b[39m'\u001b[39m), start\u001b[39m=\u001b[39m\u001b[39m1\u001b[39m)}\n\u001b[1;32m      8\u001b[0m category_1\n",
      "File \u001b[0;32m~/miniforge3/envs/school/lib/python3.9/site-packages/selenium/webdriver/remote/webdriver.py:831\u001b[0m, in \u001b[0;36mWebDriver.find_element\u001b[0;34m(self, by, value)\u001b[0m\n\u001b[1;32m    828\u001b[0m     by \u001b[39m=\u001b[39m By\u001b[39m.\u001b[39mCSS_SELECTOR\n\u001b[1;32m    829\u001b[0m     value \u001b[39m=\u001b[39m \u001b[39mf\u001b[39m\u001b[39m'\u001b[39m\u001b[39m[name=\u001b[39m\u001b[39m\"\u001b[39m\u001b[39m{\u001b[39;00mvalue\u001b[39m}\u001b[39;00m\u001b[39m\"\u001b[39m\u001b[39m]\u001b[39m\u001b[39m'\u001b[39m\n\u001b[0;32m--> 831\u001b[0m \u001b[39mreturn\u001b[39;00m \u001b[39mself\u001b[39;49m\u001b[39m.\u001b[39;49mexecute(Command\u001b[39m.\u001b[39;49mFIND_ELEMENT, {\u001b[39m\"\u001b[39;49m\u001b[39musing\u001b[39;49m\u001b[39m\"\u001b[39;49m: by, \u001b[39m\"\u001b[39;49m\u001b[39mvalue\u001b[39;49m\u001b[39m\"\u001b[39;49m: value})[\u001b[39m\"\u001b[39m\u001b[39mvalue\u001b[39m\u001b[39m\"\u001b[39m]\n",
      "File \u001b[0;32m~/miniforge3/envs/school/lib/python3.9/site-packages/selenium/webdriver/remote/webdriver.py:440\u001b[0m, in \u001b[0;36mWebDriver.execute\u001b[0;34m(self, driver_command, params)\u001b[0m\n\u001b[1;32m    438\u001b[0m response \u001b[39m=\u001b[39m \u001b[39mself\u001b[39m\u001b[39m.\u001b[39mcommand_executor\u001b[39m.\u001b[39mexecute(driver_command, params)\n\u001b[1;32m    439\u001b[0m \u001b[39mif\u001b[39;00m response:\n\u001b[0;32m--> 440\u001b[0m     \u001b[39mself\u001b[39;49m\u001b[39m.\u001b[39;49merror_handler\u001b[39m.\u001b[39;49mcheck_response(response)\n\u001b[1;32m    441\u001b[0m     response[\u001b[39m\"\u001b[39m\u001b[39mvalue\u001b[39m\u001b[39m\"\u001b[39m] \u001b[39m=\u001b[39m \u001b[39mself\u001b[39m\u001b[39m.\u001b[39m_unwrap_value(response\u001b[39m.\u001b[39mget(\u001b[39m\"\u001b[39m\u001b[39mvalue\u001b[39m\u001b[39m\"\u001b[39m, \u001b[39mNone\u001b[39;00m))\n\u001b[1;32m    442\u001b[0m     \u001b[39mreturn\u001b[39;00m response\n",
      "File \u001b[0;32m~/miniforge3/envs/school/lib/python3.9/site-packages/selenium/webdriver/remote/errorhandler.py:245\u001b[0m, in \u001b[0;36mErrorHandler.check_response\u001b[0;34m(self, response)\u001b[0m\n\u001b[1;32m    243\u001b[0m         alert_text \u001b[39m=\u001b[39m value[\u001b[39m\"\u001b[39m\u001b[39malert\u001b[39m\u001b[39m\"\u001b[39m]\u001b[39m.\u001b[39mget(\u001b[39m\"\u001b[39m\u001b[39mtext\u001b[39m\u001b[39m\"\u001b[39m)\n\u001b[1;32m    244\u001b[0m     \u001b[39mraise\u001b[39;00m exception_class(message, screen, stacktrace, alert_text)  \u001b[39m# type: ignore[call-arg]  # mypy is not smart enough here\u001b[39;00m\n\u001b[0;32m--> 245\u001b[0m \u001b[39mraise\u001b[39;00m exception_class(message, screen, stacktrace)\n",
      "\u001b[0;31mNoSuchElementException\u001b[0m: Message: no such element: Unable to locate element: {\"method\":\"xpath\",\"selector\":\"//*[@id=\"wrap\"]/div[2]/a[2]\"}\n  (Session info: chrome=113.0.5672.92)\nStacktrace:\n0   chromedriver                        0x000000010491b8ac chromedriver + 4257964\n1   chromedriver                        0x0000000104913f40 chromedriver + 4226880\n2   chromedriver                        0x00000001045509d4 chromedriver + 281044\n3   chromedriver                        0x000000010458ba34 chromedriver + 522804\n4   chromedriver                        0x00000001045c27e4 chromedriver + 747492\n5   chromedriver                        0x000000010457f98c chromedriver + 473484\n6   chromedriver                        0x000000010458098c chromedriver + 477580\n7   chromedriver                        0x00000001048da900 chromedriver + 3991808\n8   chromedriver                        0x00000001048de354 chromedriver + 4006740\n9   chromedriver                        0x00000001048de940 chromedriver + 4008256\n10  chromedriver                        0x00000001048e433c chromedriver + 4031292\n11  chromedriver                        0x00000001048def34 chromedriver + 4009780\n12  chromedriver                        0x00000001048b7490 chromedriver + 3847312\n13  chromedriver                        0x00000001048fc9f4 chromedriver + 4131316\n14  chromedriver                        0x00000001048fcb4c chromedriver + 4131660\n15  chromedriver                        0x000000010490d230 chromedriver + 4198960\n16  libsystem_pthread.dylib             0x000000018b603fa8 _pthread_start + 148\n17  libsystem_pthread.dylib             0x000000018b5feda0 thread_start + 8\n"
     ]
    }
   ],
   "source": [
    "from selenium.webdriver.common.by import By\n",
    "\n",
    "# 사러가기 클릭\n",
    "xpath = '//*[@id=\"wrap\"]/div[2]/a[2]'\n",
    "element = driver.find_element(By.XPATH, xpath)\n",
    "category_1 = {idx: name for idx, name in enumerate(\n",
    "    element.text.split('\\n'), start=1)}\n",
    "category_1\n",
    "\n",
    "xpath = '//*[@id=\"wrap\"]/div[2]/a[2]'\n",
    "element = driver.find_element(By.XPATH, xpath)\n",
    "element.click()"
   ]
  },
  {
   "cell_type": "code",
   "execution_count": 30,
   "metadata": {},
   "outputs": [],
   "source": [
    "# 리뷰들\n",
    "xpath = '//*[@id=\"section_review\"]/ul'\n",
    "reviews = driver.find_element(By.XPATH, xpath)"
   ]
  },
  {
   "cell_type": "code",
   "execution_count": null,
   "metadata": {},
   "outputs": [],
   "source": [
    "def score_extract(element):\n",
    "    return int(re.findall(r'\\d+', element.text)[0])\n",
    "\n",
    "def idx_extract(infos):\n",
    "    if infos.text[-1] == '*':\n",
    "        idx = True\n",
    "    else:\n",
    "        idx = False\n",
    "    return idx\n",
    "\n",
    "def text_extract(infos):\n",
    "    return infos.text"
   ]
  },
  {
   "cell_type": "code",
   "execution_count": null,
   "metadata": {},
   "outputs": [],
   "source": [
    "def extract_review_data(reviews):\n",
    "    # 평점\n",
    "    scores = reviews.find_elements(By.CLASS_NAME, \"reviewItems_average__0kLWX\")\n",
    "    scores = list(map(score_extract, scores))\n",
    "    \n",
    "    # 리뷰에서 스토어, ID, DATE 추출\n",
    "    infos = reviews.find_elements(By.CLASS_NAME, \"reviewItems_etc__9ej69\")\n",
    "\n",
    "    id_idxs = list(map(idx_extract, infos))\n",
    "    infos  = list(map(text_extract, infos))\n",
    "\n",
    "    ids = []\n",
    "    dates = []\n",
    "    \n",
    "    for id, b in enumerate(id_idxs):\n",
    "        if b == True:\n",
    "            ids.append(infos[id])\n",
    "            dates.append(infos[id+1])\n",
    "    \n",
    "    # 리뷰에서 데이터 추출\n",
    "    datas = reviews.find_elements(By.CLASS_NAME, \"reviewItems_text__XrSSf\")\n",
    "    datas  = list(map(text_extract, datas))\n",
    "    return list(zip(ids, scores, dates, datas))"
   ]
  },
  {
   "cell_type": "code",
   "execution_count": 70,
   "metadata": {},
   "outputs": [
    {
     "data": {
      "text/plain": [
       "[5, 5, 5, 5, 5, 5, 4, 4, 1, 5, 5, 5, 5, 5, 5, 5, 4, 5, 5, 5]"
      ]
     },
     "execution_count": 70,
     "metadata": {},
     "output_type": "execute_result"
    }
   ],
   "source": [
    "# 평점\n",
    "scores = reviews.find_elements(By.CLASS_NAME, \"reviewItems_average__0kLWX\")\n",
    "scores = list(map(score_extract, scores))\n",
    "scores"
   ]
  },
  {
   "cell_type": "code",
   "execution_count": 77,
   "metadata": {},
   "outputs": [],
   "source": [
    "# 리뷰에서 스토어, ID, DATE 추출\n",
    "infos = reviews.find_elements(By.CLASS_NAME, \"reviewItems_etc__9ej69\")\n",
    "\n",
    "id_idxs = list(map(idx_extract, infos))\n",
    "infos  = list(map(text_extract, infos))\n",
    "\n",
    "ids = []\n",
    "dates = []"
   ]
  },
  {
   "cell_type": "code",
   "execution_count": 79,
   "metadata": {},
   "outputs": [],
   "source": [
    "for id, b in enumerate(id_idxs):\n",
    "    if b == True:\n",
    "        ids.append(infos[id])\n",
    "        dates.append(infos[id+1])"
   ]
  },
  {
   "cell_type": "code",
   "execution_count": 81,
   "metadata": {},
   "outputs": [],
   "source": [
    "# 리뷰에서 데이터 추출\n",
    "datas = reviews.find_elements(By.CLASS_NAME, \"reviewItems_text__XrSSf\")\n",
    "datas  = list(map(text_extract, datas))"
   ]
  },
  {
   "cell_type": "code",
   "execution_count": 83,
   "metadata": {},
   "outputs": [
    {
     "name": "stdout",
     "output_type": "stream",
     "text": [
      "('gurb****', 5, '23.01.15.', '신랑의 직장 상사분 선물로 준비했어요\\n\\n신랑이 힘들때 언제나 믿고 지지해주시고 편들어 주시던 분이셨는데 사모님께서 갑자기 많이 편찮게 되셔서 갑자기 퇴직을 하셨거든요\\n\\n사모님 간병해드리면서 상사분도 더 건강하셔야 한다는 마음에 생각해보니 정관장 만한게 없더라구요.\\n\\n운이 좋았는지 정관장 라이브 방송까지 알게 되어서 더욱 좋은 혜택으로 구입했네요\\n\\n에브리타임 밸런스 6개에 선착순 선물까지..\\n거기에 네이버 포인트까지 하니 정말 거저 산 것 같아요\\n\\n포장도 저렇게 예쁘고 고급스럽게 보자기로 포장되어서 오니\\n\\n앞으로도 쭈욱 선물 드리려고 생각중인데 예전에는 과일을 보냈었는데 과일은 멍든거 상한거 날짜까지 신경써야하니 여간 까다로운게 아니었거든요\\n\\n근데 정관장은 정말 신경쓸거 하나 없고 포장까지 완벽하니 정말 간편하면서도\\n\\n! 선물은 정관장!!!♡')\n",
      "('mayj****', 5, '22.08.25.', '부모님댁에 보내고 직원들 선물세트 구매하면서 저도 하나 샀어요^^\\n제가 먹기엔 요게 좀 쓴 맛이 덜할 것 같아서 요걸루 구매했는데 오자마자 하나 먹어보니 쓰지도 않고 먹기도 간편해서 좋네요!\\n보자기 포장도 고급스럽고 예쁘구요.\\n받는 사람도 너무 기분 좋을 듯한 선물세트입니다.\\n고객센터와 피드백도 너무 좋고 배송도 빨라서 더 좋았어요. 추석 바로 직전보다는 지금 구매하는게 좀 더 좋을 것 같아요!')\n",
      "('goog****', 5, '23.04.27.', '정관장 에브리타임 밸런스...\\n라이브하길래 기다렸다가 바로 구매했습니다.\\n쓴거는 잘 못먹어서 맨날 퉤에엣 이런게 일상이었는데 저희 부모님 지인분께 이걸 한번 선물받은 적이 있습니다. 선물 받은거라 쓴 것도 참아가면서 아침에 하나씩 먹었거든요? 그랬더니 제가 평소에 몸이 차서 출근하면 몸이 덜덜 떨릴 정도로 추웠는데 에브리타임 밸런스를 먹으니까 제 몸이 후끈해져서 더이상 춥지가 않았습니다. 제 몸에 좋은 걸 바로 느끼니까 순식간에 다먹게되고 익숙해졌어요. 이젠 제가 알아서 사먹게 되는 지경까지..^^\\n암튼 이번에 정말 잘 샀네요. 어여쁜 보따리 푸는게 너무 아까워서 가족들 올 때까지 고대로 두었다가 풀었습니다!')\n",
      "('mong****', 5, '21.09.11.', '와우 배송받아보고 너무 만족스러워요~\\n가격도 찾은거 중에 포장에 쇼핑백까지 주는데 가격이 제일 저렴했어요~ 쇼핑백도 크기에 딱맞는 사이즈로 주셔서 더 만족이에요!! 포장까지 되어있으니 선물하는 사람 기분이 더 좋아지네요~ 다음에도 또 구매할게요~ 덕분에 추석선물 잘할게요^^')\n",
      "('e*b*****', 5, '23.01.16.', '정관장 에브리타임 밸런스는선물하기에도 부끄럽지 않고 부담없이 먹기에도 좋아서빅세일 쿠폰 적용해 미리 사둡니다.100%홍삼만으로 만들어진 에브리타임은 없어서아쉽지만 더 저렴한 맛에 밸런스로..약재들로 보완되어 있으니 그야말로 밸런스가 좋길 바라며!')\n",
      "('lolm****', 5, '22.11.28.', '상견례선물로 구매했어요.\\n먼저 문의에 대한 친절하고 빠른 답변 감사드립니다!\\n\\n솔직히 같은 제품 구매하는데 가격 비싸고 서비스 엉망이면 구매하고도 기분 안좋은데\\n여기는 가격저렴 + 꼼꼼포장 + 빠른배송에 판매자님 대응도 친절해서 구매자 입장에서 너무 만족스럽게 구매할 수 있는것 같아요!\\n\\n중요한 자리 및 ㅋㅋㅋ\\n타사이트들과 비교해 가격도 저렴하고 배송도 빨라서 !\\n\\n다음에 선물용으로 다시 :)\\n!')\n",
      "('8*g*****', 4, '21.01.31.', '설 선물로 준비하려고 정관장 제품 서칭하고 있었는데 여기가 가장 싸서 구매하게 되었어요. 리본 포장과 정관장 종이팩 넣어주셔서 겉모습은 고급져 보입니다. 그런데 속 안은 알 수 없으니 좀 답답해요. 제가 뜯어보면 저 리본을 그대로 예쁘게 다시 묶을 수 없을 거 같아 안에 보는 건 포기했어요. 사진이나 또는 다른 표기로 제조일자나 속 모습을 볼 수 있으면 좋겠어요. 어른에게 하는 선물이다 보니 혹시나 제품에 이상 있을까 봐 염려가 되어서요. 정관장과 롯데온 믿고 뜯어보지 않는 걸로 했어요. 포장은 예쁘고 꼼꼼해요.')\n",
      "('d*f*****', 4, '23.03.29.', '어머님의 면역력 향상을 위해 구매했습니다. 신속하게 깨끗한 상품이 배송되었어요. 상품이력추적관리번호를 조회하니 강원도 원주의 KGC 공장에서 작년 9월에 만들어졌네요. 유통기한은 2024년 9월까지로 되어 있습니다. 믿을 수 있는 정관장 상품인만큼 좋은 효과를 기대해 봅니다.')\n",
      "('akak****', 1, '21.05.25.', '택배부터 개판으로 왔고 안에 내용물도 개판입니다.\\n박스부터 봉투까지 온전히 온 게 없네요.\\n\\n선물하려고 산건데 반품하기에 시간이 없어\\n그냥 받았습니다.\\n\\n네이버 페이로 몇년동안 다양한 제품을 구매해봤지만\\n최악의 배송이네요. .\\n여기서 다시는 구매 안 할 생각이고 구매하실분들도 참고하셔서 구매하시길 바랍니다.')\n",
      "('ggom****', 5, '21.09.10.', '일단 포장 너~~~~~~~~~무 예쁘잔아요🎁🛍\\n보자마자 너로 정했다!\\n보자기 색상 이며 포장이 이뻐서 에브리타임밸런스로 구매했어요\\n포장 장인님 진짜 손재주 굿굿 배우고 싶네요 정말!\\n저도 나이가 들었나봐요? 리본포장 보다 이런 보자기가 좋고 마음에  들어요\\n선물드리는 저도 기분이 좋은대\\n받으시는 분은 요런 보자기 포장 선물 받음 기분이 더 좋을것 같아요!!😆\\n정관장 홍삼은 오프라인이나 타사이트에서\\n구매많이 했엇는대\\n앞으로 스마트스토어 정관장 단골될래요~!!\\n명절시즌엔 보자기포장에 다른기념일에도 리본포장도 되는것같아\\n갑자기 선물 챙겨야할때 진짜 딱인것 같아요\\n홍삼은 꾸준히 먹어야 좋다고해서 여러제품으로 골라서 먹는재미도있고요\\n에브리타임 리미티드 구매하고 싶었는대 보자기포장이 안되더라구요ㅎㅎ\\n보자기포장 많이 늘려주세요\\n배송도 하루만에 칼배송 됬어요! 와우\\n선물로 딱이에요 만족만족 👍🧡')\n",
      "('bana****', 5, '23.04.30.', '5월 가정의 달 선물 준비하며 구입했어요❤️\\n\\n에브리타임 밸런스 제품 중에\\n보자기 포장된 제품이 눈에 띄어 주문해봤습니다.\\n꽃몽오리 모양으로 예쁘게 포장되어 안전하게 잘 도착했고, 쇼핑백도 편안하게 넣을 수 있는 중형 크기로 보내주셨어요.\\n\\n정관장은 누구나 선호하는 제품이기도 하고,\\n고급스럽고 예쁜 포장이라 받으시는 분이 .🌺')\n",
      "('naes****', 5, '21.08.06.', '더위에 지쳐 안먹을수가 없네요 병원비 드는거 넘 아까우니 미리미리 건강 챙기자 싶어서 열심히 먹고 있어요~한박스 30포 금방먹어서 이번엔 두박스 시켰어요\\n코로나에 사포닌 성분이 효과가 있다고도 하니 그냥 잘 챙겨먹을려구요 커피숍 커피 한 10잔 이끼면 되니 꾸준히 먹으렵니다~착한가격 유지해주세요~^^\\n배송빠르고 가격 착하고 넘 좋아요~^^')\n",
      "('e*y*****', 5, '21.01.30.', '설산물 고민중 하루 특가에 정관장 에브리타임 구매를 하게 되서 넘 좋았다 가격도 쿠폰 받아 저렴하게 사고 포인트도 받고 설선물 포장과 종이가방까지 넘 고급지다 넘 만족해요 ~\\n상품이 맞는지 확인한다고 포장지를 하나 뜯어서 확인해 봣어요 너무좋네요 굿굿 별점 만점 입니다\\n구매하셔도 좋을것 깉아요')\n",
      "('iub0****', 5, '23.05.02.', '정관장홍삼ㅡ홍삼하면역시 정관장이 최고라고 생각합니다.저만의 생각인지몰라도 홍삼을 선물할땐 꼭정관장매장을 찾아가서 선물했고 면세점을 갈일이 있을땐 환으로된 정관장을 매번 구입해서 가까운 친지들께드려서 그런지 저는 정관장이 이상하게 믿음이갑니다. 그래서 그런지 홈쇼핑에서도 저렴하게 판매할땐 저를 위해서 사서 먹습니다.제가 갑자기 50대넘어서 극심한스트레스와 우울증 갱년기가 같이 왔을때 저희 딸이 고등학생이었는데ㅎㅎ 그것도고3이었는데 화애락을 생일선물로 사다주는거였습니다.그것도2번씩이나 자기용돈 저금해놓은걸로\\n너무 가슴이 먹먹해서 두번째는 들고서 매장에 바꾸로갔습니다.\\n매장직원분이 칭찬을 참많이하셨습니다.엄마가 갱년기가너무심하다구했다네요.ㅎㅎ그래서그냥 먹는김에 연이어2번달아서 먹는게 효과에도좋다고하셔서 먹었던기억이납니다\\n신랑도 외면했는데 ...진짜눈물겹게 기특하고 사랑스런딸에게 갱년기랑 고3이상 싸움 누가 이길것같냐고 ㅡ말도 안되는갑질에 어이없는 질문에 딸을 힘들게 했던시간들에 ㅡㅡ우리딸이사준 정관장 홍삼이 저의 갱년기와 면역에 큰힘이되었습니다.\\n이번에도 정말 .\\n작년부터 기억력도부쩍많이 떨어지고조금만 움직이면 너무 피곤하고 면역도없는것같고해서 몇가지식품은 챙겨먹는데도 혹시 이러다 치매온건아닌가? 요즘 대상포진이런게 유행처럼 50대중반인분들이 잘걸리던데 나도 맞아야하나 온갖 생각들을 하던차였는데 일단 구매한 제품 꾸준히 잘챙겨 먹어보구 운동도 조금씩하고해서 갱년기도 이겨내고 건강도 찾고 그래서면 좋겠습니다.\\n좋은제품이니 믿고먹겠습니다.\\n감사합니다.')\n",
      "('jjan****', 5, '23.01.12.', '아주 좋아요..\\n배송도 빨랐고 보자기 포장이 너무 예쁘고 고급스럽네요..\\n500명 사은품도 당첨되서 같이 보내 주셨구요..\\n쇼핑백도 같이 사은품 6개도 모두모두 빠짐없이 보내주셔서 올 설 명절 푸짐 하게 보낼수 있겠습니다..\\n아주 만족 스러워요~~~^^굿')\n",
      "('aeld****', 5, '23.01.12.', '코로나후유증으로 몸도 많이 축났고\\n아기 육아중이라 맨날 피곤하고 해서 정관장은 무조건 쟁여놓고 있어요\\n이번ㅇㅔ 라이브할인하길래 빨리 샀더니 선착순구매 사은품도 받고 넘 좋네요\\n다른데서 사도 가품논란이 있어 좀 불안해서 좀 비싸더라도 공식스토어에서 삽니다\\n\\n할인할때 사면 크게는 차이 안나요\\n어다쓰면 좋을까요')\n",
      "('appl****', 4, '20.09.23.', '우선 추석선물할거라 뜯어보지는 못했고,당연히 먹저도 않았어요.(일단은 먹어본적이 있는 제품이라, 임의로 체크했네요)\\n정관장 믿고 구매한만큼 내용물도 이상없겠지요?\\n걷포장과 선물포장이 너~~~무 예쁘게 와서 귀한 자리 선물하시는분들 완전 강추입니다.')\n",
      "('odni****', 5, '23.02.19.', '명절 때 부모님 선물로 드렸었는데, 보자기 포장이 고급스럽다면서 돈 많이 썼겠다면서 너무 좋아하시더라구요 ㅎㅎ 그리고 서비스로 한 통 더 들어 있는 것도 좋아하셨어요! 이것저것 할인 받아 저렴히 구매할 수 있어서 좋았습니다 다음에 또 구매할게요~')\n",
      "('lmja****', 5, '20.09.19.', '왼쪽사진이 이번에산거고 오른쪽사진은 작년에 다른곳에서 구입한거입니다\\n22년까지라 유통기한넉넉하네요\\n설추석 항상 벨런스만합니다 선물포장이 너무좋네요 혹시나 해서 띁어봣는데 괜한걱정을햇네요\\n참고로 처음사시는분들은 생각보다 작으실거에요 ㅋ\\n전반대로 작아서 삿습니다\\n직원들 선물인데 지하철에서 무겁게 큰거 들고 다니는거 싫어서요\\n이거 물건 가로세로18센치정도 되요\\n함량도 많은거라 항상구입합니다')\n",
      "('l*s*****', 5, '22.09.06.', '에브리타임 밸런스~선물로 보내드렸는데 잘 받았다고 합니다..Cj온스타일에서 구매하면\\n많은 혜택과 가성비도 좋아서 때때마다 보내고 있어요..저도 선물로 받아서 잘 먹고 쟁여두고 먹을만큼 추천하게 되는 정관장 입니다.감사드립니다')\n"
     ]
    }
   ],
   "source": [
    "for x in zip(ids, scores, dates, datas):\n",
    "    print(x)"
   ]
  },
  {
   "cell_type": "code",
   "execution_count": null,
   "metadata": {},
   "outputs": [],
   "source": [
    "# for review in reviews_ls:\n",
    "    # review"
   ]
  },
  {
   "cell_type": "code",
   "execution_count": 33,
   "metadata": {},
   "outputs": [],
   "source": [
    "import re"
   ]
  },
  {
   "cell_type": "code",
   "execution_count": 34,
   "metadata": {},
   "outputs": [],
   "source": [
    "def extract(element):\n",
    "    return int(re.findall(r'\\d+', element.text)[0])"
   ]
  },
  {
   "cell_type": "code",
   "execution_count": 35,
   "metadata": {},
   "outputs": [
    {
     "data": {
      "text/plain": [
       "[5, 5, 5, 5, 5, 5, 4, 4, 1, 5, 5, 5, 5, 5, 5, 5, 4, 5, 5, 5]"
      ]
     },
     "execution_count": 35,
     "metadata": {},
     "output_type": "execute_result"
    }
   ],
   "source": [
    "review1_rank_b = reviews.find_elements(By.CLASS_NAME, \"reviewItems_average__0kLWX\")\n",
    "list(map(extract, review1_rank_b))"
   ]
  },
  {
   "cell_type": "code",
   "execution_count": 44,
   "metadata": {},
   "outputs": [
    {
     "ename": "WebDriverException",
     "evalue": "Message: disconnected: not connected to DevTools\n  (failed to check if window was closed: disconnected: not connected to DevTools)\n  (Session info: chrome=113.0.5672.92)\nStacktrace:\n0   chromedriver                        0x000000010529b8ac chromedriver + 4257964\n1   chromedriver                        0x0000000105293f40 chromedriver + 4226880\n2   chromedriver                        0x0000000104ed09d4 chromedriver + 281044\n3   chromedriver                        0x0000000104eb9c48 chromedriver + 187464\n4   chromedriver                        0x0000000104eb9a30 chromedriver + 186928\n5   chromedriver                        0x0000000104f42030 chromedriver + 745520\n6   chromedriver                        0x0000000104eff98c chromedriver + 473484\n7   chromedriver                        0x0000000104f0098c chromedriver + 477580\n8   chromedriver                        0x000000010525a900 chromedriver + 3991808\n9   chromedriver                        0x000000010525e354 chromedriver + 4006740\n10  chromedriver                        0x000000010525e940 chromedriver + 4008256\n11  chromedriver                        0x000000010526433c chromedriver + 4031292\n12  chromedriver                        0x000000010525ef34 chromedriver + 4009780\n13  chromedriver                        0x0000000105237490 chromedriver + 3847312\n14  chromedriver                        0x000000010527c9f4 chromedriver + 4131316\n15  chromedriver                        0x000000010527cb4c chromedriver + 4131660\n16  chromedriver                        0x000000010528d230 chromedriver + 4198960\n17  libsystem_pthread.dylib             0x000000018b603fa8 _pthread_start + 148\n18  libsystem_pthread.dylib             0x000000018b5feda0 thread_start + 8\n",
     "output_type": "error",
     "traceback": [
      "\u001b[0;31m---------------------------------------------------------------------------\u001b[0m",
      "\u001b[0;31mWebDriverException\u001b[0m                        Traceback (most recent call last)",
      "Cell \u001b[0;32mIn[44], line 2\u001b[0m\n\u001b[1;32m      1\u001b[0m \u001b[39m# 리뷰에서 유저ID 추출\u001b[39;00m\n\u001b[0;32m----> 2\u001b[0m review1_id_b \u001b[39m=\u001b[39m review1\u001b[39m.\u001b[39;49mfind_elements(By\u001b[39m.\u001b[39;49mCLASS_NAME,\u001b[39m\"\u001b[39;49m\u001b[39mreviewItems_etc__9ej69\u001b[39;49m\u001b[39m\"\u001b[39;49m) \n\u001b[1;32m      3\u001b[0m review1_id \u001b[39m=\u001b[39m review1_id_b[\u001b[39m1\u001b[39m]\u001b[39m.\u001b[39mtext\n\u001b[1;32m      4\u001b[0m review1_id\n",
      "File \u001b[0;32m~/miniforge3/envs/school/lib/python3.9/site-packages/selenium/webdriver/remote/webelement.py:447\u001b[0m, in \u001b[0;36mWebElement.find_elements\u001b[0;34m(self, by, value)\u001b[0m\n\u001b[1;32m    444\u001b[0m     by \u001b[39m=\u001b[39m By\u001b[39m.\u001b[39mCSS_SELECTOR\n\u001b[1;32m    445\u001b[0m     value \u001b[39m=\u001b[39m \u001b[39mf\u001b[39m\u001b[39m'\u001b[39m\u001b[39m[name=\u001b[39m\u001b[39m\"\u001b[39m\u001b[39m{\u001b[39;00mvalue\u001b[39m}\u001b[39;00m\u001b[39m\"\u001b[39m\u001b[39m]\u001b[39m\u001b[39m'\u001b[39m\n\u001b[0;32m--> 447\u001b[0m \u001b[39mreturn\u001b[39;00m \u001b[39mself\u001b[39;49m\u001b[39m.\u001b[39;49m_execute(Command\u001b[39m.\u001b[39;49mFIND_CHILD_ELEMENTS, {\u001b[39m\"\u001b[39;49m\u001b[39musing\u001b[39;49m\u001b[39m\"\u001b[39;49m: by, \u001b[39m\"\u001b[39;49m\u001b[39mvalue\u001b[39;49m\u001b[39m\"\u001b[39;49m: value})[\u001b[39m\"\u001b[39m\u001b[39mvalue\u001b[39m\u001b[39m\"\u001b[39m]\n",
      "File \u001b[0;32m~/miniforge3/envs/school/lib/python3.9/site-packages/selenium/webdriver/remote/webelement.py:403\u001b[0m, in \u001b[0;36mWebElement._execute\u001b[0;34m(self, command, params)\u001b[0m\n\u001b[1;32m    401\u001b[0m     params \u001b[39m=\u001b[39m {}\n\u001b[1;32m    402\u001b[0m params[\u001b[39m\"\u001b[39m\u001b[39mid\u001b[39m\u001b[39m\"\u001b[39m] \u001b[39m=\u001b[39m \u001b[39mself\u001b[39m\u001b[39m.\u001b[39m_id\n\u001b[0;32m--> 403\u001b[0m \u001b[39mreturn\u001b[39;00m \u001b[39mself\u001b[39;49m\u001b[39m.\u001b[39;49m_parent\u001b[39m.\u001b[39;49mexecute(command, params)\n",
      "File \u001b[0;32m~/miniforge3/envs/school/lib/python3.9/site-packages/selenium/webdriver/remote/webdriver.py:440\u001b[0m, in \u001b[0;36mWebDriver.execute\u001b[0;34m(self, driver_command, params)\u001b[0m\n\u001b[1;32m    438\u001b[0m response \u001b[39m=\u001b[39m \u001b[39mself\u001b[39m\u001b[39m.\u001b[39mcommand_executor\u001b[39m.\u001b[39mexecute(driver_command, params)\n\u001b[1;32m    439\u001b[0m \u001b[39mif\u001b[39;00m response:\n\u001b[0;32m--> 440\u001b[0m     \u001b[39mself\u001b[39;49m\u001b[39m.\u001b[39;49merror_handler\u001b[39m.\u001b[39;49mcheck_response(response)\n\u001b[1;32m    441\u001b[0m     response[\u001b[39m\"\u001b[39m\u001b[39mvalue\u001b[39m\u001b[39m\"\u001b[39m] \u001b[39m=\u001b[39m \u001b[39mself\u001b[39m\u001b[39m.\u001b[39m_unwrap_value(response\u001b[39m.\u001b[39mget(\u001b[39m\"\u001b[39m\u001b[39mvalue\u001b[39m\u001b[39m\"\u001b[39m, \u001b[39mNone\u001b[39;00m))\n\u001b[1;32m    442\u001b[0m     \u001b[39mreturn\u001b[39;00m response\n",
      "File \u001b[0;32m~/miniforge3/envs/school/lib/python3.9/site-packages/selenium/webdriver/remote/errorhandler.py:245\u001b[0m, in \u001b[0;36mErrorHandler.check_response\u001b[0;34m(self, response)\u001b[0m\n\u001b[1;32m    243\u001b[0m         alert_text \u001b[39m=\u001b[39m value[\u001b[39m\"\u001b[39m\u001b[39malert\u001b[39m\u001b[39m\"\u001b[39m]\u001b[39m.\u001b[39mget(\u001b[39m\"\u001b[39m\u001b[39mtext\u001b[39m\u001b[39m\"\u001b[39m)\n\u001b[1;32m    244\u001b[0m     \u001b[39mraise\u001b[39;00m exception_class(message, screen, stacktrace, alert_text)  \u001b[39m# type: ignore[call-arg]  # mypy is not smart enough here\u001b[39;00m\n\u001b[0;32m--> 245\u001b[0m \u001b[39mraise\u001b[39;00m exception_class(message, screen, stacktrace)\n",
      "\u001b[0;31mWebDriverException\u001b[0m: Message: disconnected: not connected to DevTools\n  (failed to check if window was closed: disconnected: not connected to DevTools)\n  (Session info: chrome=113.0.5672.92)\nStacktrace:\n0   chromedriver                        0x000000010529b8ac chromedriver + 4257964\n1   chromedriver                        0x0000000105293f40 chromedriver + 4226880\n2   chromedriver                        0x0000000104ed09d4 chromedriver + 281044\n3   chromedriver                        0x0000000104eb9c48 chromedriver + 187464\n4   chromedriver                        0x0000000104eb9a30 chromedriver + 186928\n5   chromedriver                        0x0000000104f42030 chromedriver + 745520\n6   chromedriver                        0x0000000104eff98c chromedriver + 473484\n7   chromedriver                        0x0000000104f0098c chromedriver + 477580\n8   chromedriver                        0x000000010525a900 chromedriver + 3991808\n9   chromedriver                        0x000000010525e354 chromedriver + 4006740\n10  chromedriver                        0x000000010525e940 chromedriver + 4008256\n11  chromedriver                        0x000000010526433c chromedriver + 4031292\n12  chromedriver                        0x000000010525ef34 chromedriver + 4009780\n13  chromedriver                        0x0000000105237490 chromedriver + 3847312\n14  chromedriver                        0x000000010527c9f4 chromedriver + 4131316\n15  chromedriver                        0x000000010527cb4c chromedriver + 4131660\n16  chromedriver                        0x000000010528d230 chromedriver + 4198960\n17  libsystem_pthread.dylib             0x000000018b603fa8 _pthread_start + 148\n18  libsystem_pthread.dylib             0x000000018b5feda0 thread_start + 8\n"
     ]
    }
   ],
   "source": [
    "# 리뷰에서 유저ID 추출\n",
    "review1_id_b = review1.find_elements(By.CLASS_NAME, \"reviewItems_etc__9ej69\")\n",
    "review1_id = review1_id_b[1].text\n",
    "review1_id"
   ]
  },
  {
   "cell_type": "code",
   "execution_count": 110,
   "metadata": {},
   "outputs": [
    {
     "data": {
      "text/plain": [
       "'23.01.15.'"
      ]
     },
     "execution_count": 110,
     "metadata": {},
     "output_type": "execute_result"
    }
   ],
   "source": [
    "# 리뷰에서 날짜 추출\n",
    "review1_date = review1_id_b[2].text\n",
    "review1_date"
   ]
  },
  {
   "cell_type": "code",
   "execution_count": 118,
   "metadata": {},
   "outputs": [
    {
     "data": {
      "text/plain": [
       "'신랑의 직장 상사분 선물로 준비했어요\\n\\n신랑이 힘들때 언제나 믿고 지지해주시고 편들어 주시던 분이셨는데 사모님께서 갑자기 많이 편찮게 되셔서 갑자기 퇴직을 하셨거든요\\n\\n사모님 간병해드리면서 상사분도 더 건강하셔야 한다는 마음에 생각해보니 정관장 만한게 없더라구요.\\n\\n운이 좋았는지 정관장 라이브 방송까지 알게 되어서 더욱 좋은 혜택으로 구입했네요\\n\\n에브리타임 밸런스 6개에 선착순 선물까지..\\n거기에 네이버 포인트까지 하니 정말 거저 산 것 같아요\\n\\n포장도 저렇게 예쁘고 고급스럽게 보자기로 포장되어서 오니\\n\\n앞으로도 쭈욱 선물 드리려고 생각중인데 예전에는 과일을 보냈었는데 과일은 멍든거 상한거 날짜까지 신경써야하니 여간 까다로운게 아니었거든요\\n\\n근데 정관장은 정말 신경쓸거 하나 없고 포장까지 완벽하니 정말 간편하면서도\\n\\n! 선물은 정관장!!!♡'"
      ]
     },
     "execution_count": 118,
     "metadata": {},
     "output_type": "execute_result"
    }
   ],
   "source": [
    "# 리뷰에서 데이터 추출\"\n",
    "review1_data_b = review1.find_element(By.CLASS_NAME, \"reviewItems_text__XrSSf\")\n",
    "review1_data = review1_data_b.text\n",
    "review1_data"
   ]
  },
  {
   "cell_type": "code",
   "execution_count": 117,
   "metadata": {},
   "outputs": [
    {
     "data": {
      "text/plain": [
       "'신랑의 직장 상사분 선물로 준비했어요\\n\\n신랑이 힘들때 언제나 믿고 지지해주시고 편들어 주시던 분이셨는데 사모님께서 갑자기 많이 편찮게 되셔서 갑자기 퇴직을 하셨거든요\\n\\n사모님 간병해드리면서 상사분도 더 건강하셔야 한다는 마음에 생각해보니 정관장 만한게 없더라구요.\\n\\n운이 좋았는지 정관장 라이브 방송까지 알게 되어서 더욱 좋은 혜택으로 구입했네요\\n\\n에브리타임 밸런스 6개에 선착순 선물까지..\\n거기에 네이버 포인트까지 하니 정말 거저 산 것 같아요\\n\\n포장도 저렇게 예쁘고 고급스럽게 보자기로 포장되어서 오니\\n\\n앞으로도 쭈욱 선물 드리려고 생각중인데 예전에는 과일을 보냈었는데 과일은 멍든거 상한거 날짜까지 신경써야하니 여간 까다로운게 아니었거든요\\n\\n근데 정관장은 정말 신경쓸거 하나 없고 포장까지 완벽하니 정말 간편하면서도\\n\\n! 선물은 정관장!!!♡'"
      ]
     },
     "execution_count": 117,
     "metadata": {},
     "output_type": "execute_result"
    }
   ],
   "source": []
  },
  {
   "attachments": {},
   "cell_type": "markdown",
   "metadata": {},
   "source": [
    "- find_element(By.ID, ‘\\*\\*\\*’): ID 속성을 사용하여 웹 요소를 찾습니다.\n",
    "- find_element(By.NAME, ‘\\*\\*\\*’): NAME 속성을 사용하여 웹 요소를 찾습니다.\n",
    "- find_element(By.CLASS_NAME, ‘\\*\\*\\*’): CLASS 속성을 사용하여 웹 요소를 찾습니다.\n",
    "- find_element(By.TAG_NAME, ‘\\*\\*\\*’): 태그 이름을 사용하여 웹 요소를 찾습니다.\n",
    "- find_element(By.CSS_SELECTOR, ‘\\*\\*\\*’): CSS 선택자를 사용하여 웹 요소를 찾습니다.\n",
    "- find_element(By.XPATH, ‘\\*\\*\\*’): XPATH를 사용하여 웹 요소를 찾습니다.\n",
    "\n",
    "- driver.implicitly_wait(10)\n"
   ]
  },
  {
   "cell_type": "code",
   "execution_count": 121,
   "metadata": {},
   "outputs": [
    {
     "data": {
      "text/plain": [
       "[5,\n",
       " 'gurb****',\n",
       " '23.01.15.',\n",
       " '신랑의 직장 상사분 선물로 준비했어요\\n\\n신랑이 힘들때 언제나 믿고 지지해주시고 편들어 주시던 분이셨는데 사모님께서 갑자기 많이 편찮게 되셔서 갑자기 퇴직을 하셨거든요\\n\\n사모님 간병해드리면서 상사분도 더 건강하셔야 한다는 마음에 생각해보니 정관장 만한게 없더라구요.\\n\\n운이 좋았는지 정관장 라이브 방송까지 알게 되어서 더욱 좋은 혜택으로 구입했네요\\n\\n에브리타임 밸런스 6개에 선착순 선물까지..\\n거기에 네이버 포인트까지 하니 정말 거저 산 것 같아요\\n\\n포장도 저렇게 예쁘고 고급스럽게 보자기로 포장되어서 오니\\n\\n앞으로도 쭈욱 선물 드리려고 생각중인데 예전에는 과일을 보냈었는데 과일은 멍든거 상한거 날짜까지 신경써야하니 여간 까다로운게 아니었거든요\\n\\n근데 정관장은 정말 신경쓸거 하나 없고 포장까지 완벽하니 정말 간편하면서도\\n\\n! 선물은 정관장!!!♡']"
      ]
     },
     "execution_count": 121,
     "metadata": {},
     "output_type": "execute_result"
    }
   ],
   "source": [
    "# 리뷰 토탈 데이터 추출\n",
    "review1_totaldata = []\n",
    "\n",
    "# 리뷰에서 평점 추출\n",
    "reviews_ls = reviews.find_elements(By.TAG_NAME, 'li')\n",
    "review1 = reviews_ls[0]\n",
    "review1_rank_b = review1.find_element(\n",
    "    By.CLASS_NAME, \"reviewItems_average__0kLWX\")\n",
    "review1_rank = int(re.findall(r'\\d+', review1_rank_b.text)[0])\n",
    "review1_totaldata.append(review1_rank)\n",
    "\n",
    "# 리뷰에서 유저ID 추출\n",
    "review1_id_b = review1.find_elements(By.CLASS_NAME, \"reviewItems_etc__9ej69\")\n",
    "review1_id = review1_id_b[1].text\n",
    "review1_totaldata.append(review1_id)\n",
    "\n",
    "# 리뷰에서 날짜 추출\n",
    "review1_date = review1_id_b[2].text\n",
    "review1_totaldata.append(review1_date)\n",
    "\n",
    "# 리뷰에서 데이터 추출\"\n",
    "review1_data_b = review1.find_element(By.CLASS_NAME, \"reviewItems_text__XrSSf\")\n",
    "review1_data = review1_data_b.text\n",
    "review1_totaldata.append(review1_data)\n",
    "\n",
    "review1_totaldata"
   ]
  },
  {
   "cell_type": "code",
   "execution_count": 12,
   "metadata": {},
   "outputs": [],
   "source": [
    " driver.close()"
   ]
  }
 ],
 "metadata": {
  "kernelspec": {
   "display_name": "base_3_7",
   "language": "python",
   "name": "python3"
  },
  "language_info": {
   "codemirror_mode": {
    "name": "ipython",
    "version": 3
   },
   "file_extension": ".py",
   "mimetype": "text/x-python",
   "name": "python",
   "nbconvert_exporter": "python",
   "pygments_lexer": "ipython3",
   "version": "3.9.16"
  },
  "orig_nbformat": 4
 },
 "nbformat": 4,
 "nbformat_minor": 2
}
