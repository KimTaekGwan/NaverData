{
 "cells": [
  {
   "cell_type": "code",
   "execution_count": 4,
   "metadata": {},
   "outputs": [],
   "source": [
    "import time\n",
    "# Selenium 모듈에서 webdriver를 가져옵니다.\n",
    "from selenium import webdriver \n",
    "# Chrome 브라우저 옵션을 다루는 Options 클래스를 가져옵니다.\n",
    "from selenium.webdriver.chrome.options import Options\n",
    "# Chrome 드라이버 서비스를 다루는 Service 클래스를 가져옵니다.\n",
    "from selenium.webdriver.chrome.service import Service\n",
    "# Chrome 드라이버를 다운로드하고 설치하는 데 사용되는 ChromeDriverManager를 가져옵니다.\n",
    "from webdriver_manager.chrome import ChromeDriverManager"
   ]
  },
  {
   "cell_type": "code",
   "execution_count": 13,
   "metadata": {},
   "outputs": [],
   "source": [
    "options = Options()\n",
    "options.add_experimental_option('detach', True)\n",
    "options.add_experimental_option('excludeSwitches', ['enable-logging'])\n",
    "service = Service(ChromeDriverManager().install())\n",
    "driver = webdriver.Chrome(service=service, options=options)"
   ]
  },
  {
   "cell_type": "code",
   "execution_count": 14,
   "metadata": {},
   "outputs": [],
   "source": [
    "link = 'https://search.shopping.naver.com/gate.nhn?id=11259655619'\n",
    "driver.get(link)\n",
    "time.sleep(2)"
   ]
  },
  {
   "attachments": {},
   "cell_type": "markdown",
   "metadata": {},
   "source": []
  },
  {
   "cell_type": "code",
   "execution_count": 15,
   "metadata": {},
   "outputs": [],
   "source": [
    "from selenium.webdriver.common.by import By\n",
    "\n",
    "# 사러가기 클릭\n",
    "xpath = '//*[@id=\"wrap\"]/div[2]/a[2]'\n",
    "element = driver.find_element(By.XPATH, xpath)\n",
    "category_1 = {idx:name for idx, name in enumerate(element.text.split('\\n'), start=1)}\n",
    "category_1\n",
    "\n",
    "xpath = '//*[@id=\"wrap\"]/div[2]/a[2]'\n",
    "element = driver.find_element(By.XPATH, xpath)\n",
    "element.click()"
   ]
  },
  {
   "cell_type": "code",
   "execution_count": 26,
   "metadata": {},
   "outputs": [],
   "source": [
    "# 리뷰\n",
    "xpath = '//*[@id=\"section_review\"]/ul'\n",
    "reviews = driver.find_element(By.XPATH, xpath)\n",
    "# category_1 = {idx:name for idx, name in enumerate(element.text.split('\\n'), start=1)}\n",
    "# category_1\n"
   ]
  },
  {
   "cell_type": "code",
   "execution_count": 123,
   "metadata": {},
   "outputs": [
    {
     "data": {
      "text/plain": [
       "[<selenium.webdriver.remote.webelement.WebElement (session=\"550bd7edf513a5e87d58b926f7549049\", element=\"84329b22-ae11-4b9f-93f4-229556b5b2eb\")>,\n",
       " <selenium.webdriver.remote.webelement.WebElement (session=\"550bd7edf513a5e87d58b926f7549049\", element=\"6b265769-1d9c-4956-9e65-c704043a5756\")>,\n",
       " <selenium.webdriver.remote.webelement.WebElement (session=\"550bd7edf513a5e87d58b926f7549049\", element=\"eabd5002-0eb8-4f66-8a61-3a12611397a9\")>,\n",
       " <selenium.webdriver.remote.webelement.WebElement (session=\"550bd7edf513a5e87d58b926f7549049\", element=\"c64cefcb-ef19-49c8-bf0d-ec2d8caa7ab1\")>,\n",
       " <selenium.webdriver.remote.webelement.WebElement (session=\"550bd7edf513a5e87d58b926f7549049\", element=\"2f8b6c39-759d-45bd-aadb-ae59429b84ba\")>,\n",
       " <selenium.webdriver.remote.webelement.WebElement (session=\"550bd7edf513a5e87d58b926f7549049\", element=\"7ec30d56-038a-4abb-9778-c36d67804d69\")>,\n",
       " <selenium.webdriver.remote.webelement.WebElement (session=\"550bd7edf513a5e87d58b926f7549049\", element=\"1d3f7908-09d6-4f3e-9945-c7d5a438afd2\")>,\n",
       " <selenium.webdriver.remote.webelement.WebElement (session=\"550bd7edf513a5e87d58b926f7549049\", element=\"2bfff5a1-a2ab-4692-8143-6c7c987c7359\")>,\n",
       " <selenium.webdriver.remote.webelement.WebElement (session=\"550bd7edf513a5e87d58b926f7549049\", element=\"901dcbbd-2436-4013-9e1a-91f3ad7f6cbb\")>,\n",
       " <selenium.webdriver.remote.webelement.WebElement (session=\"550bd7edf513a5e87d58b926f7549049\", element=\"6357bae0-62c0-4b39-8261-7422ffe3fd02\")>,\n",
       " <selenium.webdriver.remote.webelement.WebElement (session=\"550bd7edf513a5e87d58b926f7549049\", element=\"4576b549-2249-407e-b7e5-31699134bdb4\")>,\n",
       " <selenium.webdriver.remote.webelement.WebElement (session=\"550bd7edf513a5e87d58b926f7549049\", element=\"120c3db3-0571-41a9-9975-19bde2b30678\")>,\n",
       " <selenium.webdriver.remote.webelement.WebElement (session=\"550bd7edf513a5e87d58b926f7549049\", element=\"f76e918b-1921-4a56-b1be-c047367adb00\")>,\n",
       " <selenium.webdriver.remote.webelement.WebElement (session=\"550bd7edf513a5e87d58b926f7549049\", element=\"9f32c9b1-0866-40ce-9618-6074fa378c1b\")>,\n",
       " <selenium.webdriver.remote.webelement.WebElement (session=\"550bd7edf513a5e87d58b926f7549049\", element=\"dd4b35a6-a99c-4cc4-abcf-3253a706acf7\")>,\n",
       " <selenium.webdriver.remote.webelement.WebElement (session=\"550bd7edf513a5e87d58b926f7549049\", element=\"bf84daae-1eae-4d1c-a36b-94a194f61463\")>,\n",
       " <selenium.webdriver.remote.webelement.WebElement (session=\"550bd7edf513a5e87d58b926f7549049\", element=\"21565812-fb0d-4295-b427-4c9ecd847075\")>,\n",
       " <selenium.webdriver.remote.webelement.WebElement (session=\"550bd7edf513a5e87d58b926f7549049\", element=\"443ce5b5-940b-4902-9980-0a0993d16c70\")>,\n",
       " <selenium.webdriver.remote.webelement.WebElement (session=\"550bd7edf513a5e87d58b926f7549049\", element=\"8a17ec76-57c6-47b3-b544-b8b524e3fb05\")>,\n",
       " <selenium.webdriver.remote.webelement.WebElement (session=\"550bd7edf513a5e87d58b926f7549049\", element=\"250ae09e-dd91-429c-8b2a-d4dbaae8cf27\")>]"
      ]
     },
     "execution_count": 123,
     "metadata": {},
     "output_type": "execute_result"
    }
   ],
   "source": [
    "#리뷰 엘리먼트 탐색\n",
    "reviews_ls = reviews.find_elements(By.TAG_NAME,'li')\n",
    "reviews_ls\n",
    "    "
   ]
  },
  {
   "cell_type": "code",
   "execution_count": 106,
   "metadata": {},
   "outputs": [
    {
     "data": {
      "text/plain": [
       "5"
      ]
     },
     "execution_count": 106,
     "metadata": {},
     "output_type": "execute_result"
    }
   ],
   "source": [
    "# 리뷰에서 평점 추출\n",
    "reviews_ls = reviews.find_elements(By.TAG_NAME,'li')\n",
    "review1 = reviews_ls[0]\n",
    "review1_rank_b= review1.find_element(By.CLASS_NAME,\"reviewItems_average__0kLWX\") \n",
    "review1_rank = int(re.findall(r'\\d+', review1_rank_b.text)[0]) \n",
    "review1_rank \n"
   ]
  },
  {
   "cell_type": "code",
   "execution_count": 111,
   "metadata": {},
   "outputs": [
    {
     "data": {
      "text/plain": [
       "'gurb****'"
      ]
     },
     "execution_count": 111,
     "metadata": {},
     "output_type": "execute_result"
    }
   ],
   "source": [
    "# 리뷰에서 유저ID 추출\n",
    "review1_id_b = review1.find_elements(By.CLASS_NAME,\"reviewItems_etc__9ej69\") \n",
    "review1_id = review1_id_b[1].text\n",
    "review1_id\n"
   ]
  },
  {
   "cell_type": "code",
   "execution_count": 110,
   "metadata": {},
   "outputs": [
    {
     "data": {
      "text/plain": [
       "'23.01.15.'"
      ]
     },
     "execution_count": 110,
     "metadata": {},
     "output_type": "execute_result"
    }
   ],
   "source": [
    "# 리뷰에서 날짜 추출\n",
    "review1_date = review1_id_b[2].text\n",
    "review1_date"
   ]
  },
  {
   "cell_type": "code",
   "execution_count": 118,
   "metadata": {},
   "outputs": [
    {
     "data": {
      "text/plain": [
       "'신랑의 직장 상사분 선물로 준비했어요\\n\\n신랑이 힘들때 언제나 믿고 지지해주시고 편들어 주시던 분이셨는데 사모님께서 갑자기 많이 편찮게 되셔서 갑자기 퇴직을 하셨거든요\\n\\n사모님 간병해드리면서 상사분도 더 건강하셔야 한다는 마음에 생각해보니 정관장 만한게 없더라구요.\\n\\n운이 좋았는지 정관장 라이브 방송까지 알게 되어서 더욱 좋은 혜택으로 구입했네요\\n\\n에브리타임 밸런스 6개에 선착순 선물까지..\\n거기에 네이버 포인트까지 하니 정말 거저 산 것 같아요\\n\\n포장도 저렇게 예쁘고 고급스럽게 보자기로 포장되어서 오니\\n\\n앞으로도 쭈욱 선물 드리려고 생각중인데 예전에는 과일을 보냈었는데 과일은 멍든거 상한거 날짜까지 신경써야하니 여간 까다로운게 아니었거든요\\n\\n근데 정관장은 정말 신경쓸거 하나 없고 포장까지 완벽하니 정말 간편하면서도\\n\\n! 선물은 정관장!!!♡'"
      ]
     },
     "execution_count": 118,
     "metadata": {},
     "output_type": "execute_result"
    }
   ],
   "source": [
    "# 리뷰에서 데이터 추출\"\n",
    "review1_data_b= review1.find_element(By.CLASS_NAME,\"reviewItems_text__XrSSf\") \n",
    "review1_data = review1_data_b.text\n",
    "review1_data"
   ]
  },
  {
   "cell_type": "code",
   "execution_count": 117,
   "metadata": {},
   "outputs": [
    {
     "data": {
      "text/plain": [
       "'신랑의 직장 상사분 선물로 준비했어요\\n\\n신랑이 힘들때 언제나 믿고 지지해주시고 편들어 주시던 분이셨는데 사모님께서 갑자기 많이 편찮게 되셔서 갑자기 퇴직을 하셨거든요\\n\\n사모님 간병해드리면서 상사분도 더 건강하셔야 한다는 마음에 생각해보니 정관장 만한게 없더라구요.\\n\\n운이 좋았는지 정관장 라이브 방송까지 알게 되어서 더욱 좋은 혜택으로 구입했네요\\n\\n에브리타임 밸런스 6개에 선착순 선물까지..\\n거기에 네이버 포인트까지 하니 정말 거저 산 것 같아요\\n\\n포장도 저렇게 예쁘고 고급스럽게 보자기로 포장되어서 오니\\n\\n앞으로도 쭈욱 선물 드리려고 생각중인데 예전에는 과일을 보냈었는데 과일은 멍든거 상한거 날짜까지 신경써야하니 여간 까다로운게 아니었거든요\\n\\n근데 정관장은 정말 신경쓸거 하나 없고 포장까지 완벽하니 정말 간편하면서도\\n\\n! 선물은 정관장!!!♡'"
      ]
     },
     "execution_count": 117,
     "metadata": {},
     "output_type": "execute_result"
    }
   ],
   "source": []
  },
  {
   "attachments": {},
   "cell_type": "markdown",
   "metadata": {},
   "source": [
    "- find_element(By.ID, ‘***’): ID 속성을 사용하여 웹 요소를 찾습니다.\n",
    "- find_element(By.NAME, ‘***’): NAME 속성을 사용하여 웹 요소를 찾습니다.\n",
    "- find_element(By.CLASS_NAME, ‘***’): CLASS 속성을 사용하여 웹 요소를 찾습니다.\n",
    "- find_element(By.TAG_NAME, ‘***’): 태그 이름을 사용하여 웹 요소를 찾습니다.\n",
    "- find_element(By.CSS_SELECTOR, ‘***’): CSS 선택자를 사용하여 웹 요소를 찾습니다.\n",
    "- find_element(By.XPATH, ‘***’): XPATH를 사용하여 웹 요소를 찾습니다.\n",
    "\n",
    "- driver.implicitly_wait(10)"
   ]
  },
  {
   "cell_type": "code",
   "execution_count": 121,
   "metadata": {},
   "outputs": [
    {
     "data": {
      "text/plain": [
       "[5,\n",
       " 'gurb****',\n",
       " '23.01.15.',\n",
       " '신랑의 직장 상사분 선물로 준비했어요\\n\\n신랑이 힘들때 언제나 믿고 지지해주시고 편들어 주시던 분이셨는데 사모님께서 갑자기 많이 편찮게 되셔서 갑자기 퇴직을 하셨거든요\\n\\n사모님 간병해드리면서 상사분도 더 건강하셔야 한다는 마음에 생각해보니 정관장 만한게 없더라구요.\\n\\n운이 좋았는지 정관장 라이브 방송까지 알게 되어서 더욱 좋은 혜택으로 구입했네요\\n\\n에브리타임 밸런스 6개에 선착순 선물까지..\\n거기에 네이버 포인트까지 하니 정말 거저 산 것 같아요\\n\\n포장도 저렇게 예쁘고 고급스럽게 보자기로 포장되어서 오니\\n\\n앞으로도 쭈욱 선물 드리려고 생각중인데 예전에는 과일을 보냈었는데 과일은 멍든거 상한거 날짜까지 신경써야하니 여간 까다로운게 아니었거든요\\n\\n근데 정관장은 정말 신경쓸거 하나 없고 포장까지 완벽하니 정말 간편하면서도\\n\\n! 선물은 정관장!!!♡']"
      ]
     },
     "execution_count": 121,
     "metadata": {},
     "output_type": "execute_result"
    }
   ],
   "source": [
    "#리뷰 토탈 데이터 추출\n",
    "review1_totaldata = []\n",
    "\n",
    "# 리뷰에서 평점 추출\n",
    "reviews_ls = reviews.find_elements(By.TAG_NAME,'li')\n",
    "review1 = reviews_ls[0]\n",
    "review1_rank_b= review1.find_element(By.CLASS_NAME,\"reviewItems_average__0kLWX\") \n",
    "review1_rank = int(re.findall(r'\\d+', review1_rank_b.text)[0]) \n",
    "review1_totaldata.append(review1_rank)\n",
    "\n",
    "# 리뷰에서 유저ID 추출\n",
    "review1_id_b = review1.find_elements(By.CLASS_NAME,\"reviewItems_etc__9ej69\") \n",
    "review1_id = review1_id_b[1].text\n",
    "review1_totaldata.append(review1_id)\n",
    "\n",
    "# 리뷰에서 날짜 추출\n",
    "review1_date = review1_id_b[2].text\n",
    "review1_totaldata.append(review1_date)\n",
    "\n",
    "# 리뷰에서 데이터 추출\"\n",
    "review1_data_b= review1.find_element(By.CLASS_NAME,\"reviewItems_text__XrSSf\") \n",
    "review1_data = review1_data_b.text\n",
    "review1_totaldata.append(review1_data)\n",
    "\n",
    "review1_totaldata\n"
   ]
  },
  {
   "cell_type": "code",
   "execution_count": 12,
   "metadata": {},
   "outputs": [],
   "source": [
    " driver.close()"
   ]
  }
 ],
 "metadata": {
  "kernelspec": {
   "display_name": "base_3_7",
   "language": "python",
   "name": "python3"
  },
  "language_info": {
   "codemirror_mode": {
    "name": "ipython",
    "version": 3
   },
   "file_extension": ".py",
   "mimetype": "text/x-python",
   "name": "python",
   "nbconvert_exporter": "python",
   "pygments_lexer": "ipython3",
   "version": "3.7.16"
  },
  "orig_nbformat": 4
 },
 "nbformat": 4,
 "nbformat_minor": 2
}
