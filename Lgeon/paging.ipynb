{
 "cells": [
  {
   "cell_type": "code",
   "execution_count": 33,
   "metadata": {},
   "outputs": [],
   "source": [
    "import time\n",
    "# Selenium 모듈에서 webdriver를 가져옵니다.\n",
    "from selenium import webdriver \n",
    "# Chrome 브라우저 옵션을 다루는 Options 클래스를 가져옵니다.\n",
    "from selenium.webdriver.chrome.options import Options\n",
    "# Chrome 드라이버 서비스를 다루는 Service 클래스를 가져옵니다.\n",
    "from selenium.webdriver.chrome.service import Service\n",
    "# Chrome 드라이버를 다운로드하고 설치하는 데 사용되는 ChromeDriverManager를 가져옵니다.\n",
    "from webdriver_manager.chrome import ChromeDriverManager\n",
    "\n",
    " \n",
    "# Options 클래스의 인스턴스를 생성합니다.\n",
    "options = Options()\n",
    " \n",
    "# Chrome 브라우저 창이 즉시 닫히는 것을 방지합니다.\n",
    "options.add_experimental_option('detach', True)\n",
    " \n",
    "# 불필요한 콘솔 메시지를 제거합니다.\n",
    "options.add_experimental_option('excludeSwitches', ['enable-logging'])\n",
    " \n",
    "# Chrome 드라이버 서비스를 생성합니다.\n",
    "service = Service(ChromeDriverManager().install())"
   ]
  },
  {
   "cell_type": "code",
   "execution_count": 43,
   "metadata": {},
   "outputs": [],
   "source": [
    "# Chrome 브라우저를 실행하는 ChromeDriver 객체를 생성합니다.\n",
    "driver = webdriver.Chrome(service=service, options=options)\n",
    "\n",
    "# Chrome 브라우저에서 https://itmanual.net 페이지를 로드합니다.\n",
    "driver.get('https://search.shopping.naver.com/catalog/11259655619?NaPm=ct%3Dlhngmmbs%7Cci%3D29c426eef072104c5f5bfb21d94a0c1917df7ca8%7Ctr%3Dslsl%7Csn%3D95694%7Chk%3Df608db3501880f896b4d6ae209cbf68ccd6b44c4')"
   ]
  },
  {
   "cell_type": "code",
   "execution_count": 35,
   "metadata": {},
   "outputs": [],
   "source": [
    "from selenium.webdriver.common.by import By"
   ]
  },
  {
   "cell_type": "code",
   "execution_count": 44,
   "metadata": {},
   "outputs": [],
   "source": [
    "xpath = '//*[@id=\"section_review\"]/div[3]'\n",
    "page_views = driver.find_element(By.XPATH, xpath)\n",
    "a_list = page_views.find_elements(By.TAG_NAME, 'a')"
   ]
  },
  {
   "cell_type": "code",
   "execution_count": 45,
   "metadata": {},
   "outputs": [],
   "source": [
    "def search_index(a_list):\n",
    "    for idx, a in enumerate(a_list):\n",
    "        try:\n",
    "            now = [True, a.find_element(By.TAG_NAME, 'span')]\n",
    "            return idx\n",
    "        except:\n",
    "            now = [False, []]"
   ]
  },
  {
   "cell_type": "code",
   "execution_count": 52,
   "metadata": {},
   "outputs": [
    {
     "name": "stdout",
     "output_type": "stream",
     "text": [
      "Page 99\n",
      "Page 100\n"
     ]
    }
   ],
   "source": [
    "while True:\n",
    "    xpath = '//*[@id=\"section_review\"]/div[3]'\n",
    "    page_views = driver.find_element(By.XPATH, xpath)\n",
    "    a_list = page_views.find_elements(By.TAG_NAME, 'a')\n",
    "\n",
    "    idx = search_index(a_list)\n",
    "    page_num = a_list[idx].text.split('\\n')[1]\n",
    "    print('Page', page_num)\n",
    "    if int(page_num) == 100:\n",
    "        break\n",
    "    if (len(a_list)-1) != idx:\n",
    "        # print(a_list[idx].text.split('\\n')[1])\n",
    "        a_list[idx+1].click()\n",
    "        time.sleep(1)\n",
    "    else:\n",
    "        print('end')\n",
    "        break"
   ]
  },
  {
   "cell_type": "code",
   "execution_count": null,
   "metadata": {},
   "outputs": [],
   "source": []
  },
  {
   "attachments": {},
   "cell_type": "markdown",
   "metadata": {},
   "source": []
  },
  {
   "cell_type": "code",
   "execution_count": 42,
   "metadata": {},
   "outputs": [],
   "source": [
    "driver.close()"
   ]
  },
  {
   "cell_type": "code",
   "execution_count": 29,
   "metadata": {},
   "outputs": [
    {
     "ename": "InvalidSessionIdException",
     "evalue": "Message: invalid session id\nStacktrace:\n0   chromedriver                        0x000000010314b8ac chromedriver + 4257964\n1   chromedriver                        0x0000000103143f40 chromedriver + 4226880\n2   chromedriver                        0x0000000102d80854 chromedriver + 280660\n3   chromedriver                        0x0000000102daf5f8 chromedriver + 472568\n4   chromedriver                        0x0000000102db098c chromedriver + 477580\n5   chromedriver                        0x000000010310a900 chromedriver + 3991808\n6   chromedriver                        0x000000010310e354 chromedriver + 4006740\n7   chromedriver                        0x000000010310e940 chromedriver + 4008256\n8   chromedriver                        0x000000010311433c chromedriver + 4031292\n9   chromedriver                        0x000000010310ef34 chromedriver + 4009780\n10  chromedriver                        0x00000001030e7490 chromedriver + 3847312\n11  chromedriver                        0x000000010312c9f4 chromedriver + 4131316\n12  chromedriver                        0x000000010312cb4c chromedriver + 4131660\n13  chromedriver                        0x000000010313d230 chromedriver + 4198960\n14  libsystem_pthread.dylib             0x000000018b603fa8 _pthread_start + 148\n15  libsystem_pthread.dylib             0x000000018b5feda0 thread_start + 8\n",
     "output_type": "error",
     "traceback": [
      "\u001b[0;31m---------------------------------------------------------------------------\u001b[0m",
      "\u001b[0;31mInvalidSessionIdException\u001b[0m                 Traceback (most recent call last)",
      "Cell \u001b[0;32mIn[29], line 2\u001b[0m\n\u001b[1;32m      1\u001b[0m \u001b[39mfor\u001b[39;00m a \u001b[39min\u001b[39;00m a_list:\n\u001b[0;32m----> 2\u001b[0m     \u001b[39mprint\u001b[39m(a\u001b[39m.\u001b[39;49mtext)\n",
      "File \u001b[0;32m~/miniforge3/envs/school/lib/python3.9/site-packages/selenium/webdriver/remote/webelement.py:90\u001b[0m, in \u001b[0;36mWebElement.text\u001b[0;34m(self)\u001b[0m\n\u001b[1;32m     87\u001b[0m \u001b[39m@property\u001b[39m\n\u001b[1;32m     88\u001b[0m \u001b[39mdef\u001b[39;00m \u001b[39mtext\u001b[39m(\u001b[39mself\u001b[39m) \u001b[39m-\u001b[39m\u001b[39m>\u001b[39m \u001b[39mstr\u001b[39m:\n\u001b[1;32m     89\u001b[0m \u001b[39m    \u001b[39m\u001b[39m\"\"\"The text of the element.\"\"\"\u001b[39;00m\n\u001b[0;32m---> 90\u001b[0m     \u001b[39mreturn\u001b[39;00m \u001b[39mself\u001b[39;49m\u001b[39m.\u001b[39;49m_execute(Command\u001b[39m.\u001b[39;49mGET_ELEMENT_TEXT)[\u001b[39m\"\u001b[39m\u001b[39mvalue\u001b[39m\u001b[39m\"\u001b[39m]\n",
      "File \u001b[0;32m~/miniforge3/envs/school/lib/python3.9/site-packages/selenium/webdriver/remote/webelement.py:403\u001b[0m, in \u001b[0;36mWebElement._execute\u001b[0;34m(self, command, params)\u001b[0m\n\u001b[1;32m    401\u001b[0m     params \u001b[39m=\u001b[39m {}\n\u001b[1;32m    402\u001b[0m params[\u001b[39m\"\u001b[39m\u001b[39mid\u001b[39m\u001b[39m\"\u001b[39m] \u001b[39m=\u001b[39m \u001b[39mself\u001b[39m\u001b[39m.\u001b[39m_id\n\u001b[0;32m--> 403\u001b[0m \u001b[39mreturn\u001b[39;00m \u001b[39mself\u001b[39;49m\u001b[39m.\u001b[39;49m_parent\u001b[39m.\u001b[39;49mexecute(command, params)\n",
      "File \u001b[0;32m~/miniforge3/envs/school/lib/python3.9/site-packages/selenium/webdriver/remote/webdriver.py:440\u001b[0m, in \u001b[0;36mWebDriver.execute\u001b[0;34m(self, driver_command, params)\u001b[0m\n\u001b[1;32m    438\u001b[0m response \u001b[39m=\u001b[39m \u001b[39mself\u001b[39m\u001b[39m.\u001b[39mcommand_executor\u001b[39m.\u001b[39mexecute(driver_command, params)\n\u001b[1;32m    439\u001b[0m \u001b[39mif\u001b[39;00m response:\n\u001b[0;32m--> 440\u001b[0m     \u001b[39mself\u001b[39;49m\u001b[39m.\u001b[39;49merror_handler\u001b[39m.\u001b[39;49mcheck_response(response)\n\u001b[1;32m    441\u001b[0m     response[\u001b[39m\"\u001b[39m\u001b[39mvalue\u001b[39m\u001b[39m\"\u001b[39m] \u001b[39m=\u001b[39m \u001b[39mself\u001b[39m\u001b[39m.\u001b[39m_unwrap_value(response\u001b[39m.\u001b[39mget(\u001b[39m\"\u001b[39m\u001b[39mvalue\u001b[39m\u001b[39m\"\u001b[39m, \u001b[39mNone\u001b[39;00m))\n\u001b[1;32m    442\u001b[0m     \u001b[39mreturn\u001b[39;00m response\n",
      "File \u001b[0;32m~/miniforge3/envs/school/lib/python3.9/site-packages/selenium/webdriver/remote/errorhandler.py:245\u001b[0m, in \u001b[0;36mErrorHandler.check_response\u001b[0;34m(self, response)\u001b[0m\n\u001b[1;32m    243\u001b[0m         alert_text \u001b[39m=\u001b[39m value[\u001b[39m\"\u001b[39m\u001b[39malert\u001b[39m\u001b[39m\"\u001b[39m]\u001b[39m.\u001b[39mget(\u001b[39m\"\u001b[39m\u001b[39mtext\u001b[39m\u001b[39m\"\u001b[39m)\n\u001b[1;32m    244\u001b[0m     \u001b[39mraise\u001b[39;00m exception_class(message, screen, stacktrace, alert_text)  \u001b[39m# type: ignore[call-arg]  # mypy is not smart enough here\u001b[39;00m\n\u001b[0;32m--> 245\u001b[0m \u001b[39mraise\u001b[39;00m exception_class(message, screen, stacktrace)\n",
      "\u001b[0;31mInvalidSessionIdException\u001b[0m: Message: invalid session id\nStacktrace:\n0   chromedriver                        0x000000010314b8ac chromedriver + 4257964\n1   chromedriver                        0x0000000103143f40 chromedriver + 4226880\n2   chromedriver                        0x0000000102d80854 chromedriver + 280660\n3   chromedriver                        0x0000000102daf5f8 chromedriver + 472568\n4   chromedriver                        0x0000000102db098c chromedriver + 477580\n5   chromedriver                        0x000000010310a900 chromedriver + 3991808\n6   chromedriver                        0x000000010310e354 chromedriver + 4006740\n7   chromedriver                        0x000000010310e940 chromedriver + 4008256\n8   chromedriver                        0x000000010311433c chromedriver + 4031292\n9   chromedriver                        0x000000010310ef34 chromedriver + 4009780\n10  chromedriver                        0x00000001030e7490 chromedriver + 3847312\n11  chromedriver                        0x000000010312c9f4 chromedriver + 4131316\n12  chromedriver                        0x000000010312cb4c chromedriver + 4131660\n13  chromedriver                        0x000000010313d230 chromedriver + 4198960\n14  libsystem_pthread.dylib             0x000000018b603fa8 _pthread_start + 148\n15  libsystem_pthread.dylib             0x000000018b5feda0 thread_start + 8\n"
     ]
    }
   ],
   "source": [
    "for a in a_list:\n",
    "    print(a.text)"
   ]
  },
  {
   "cell_type": "code",
   "execution_count": null,
   "metadata": {},
   "outputs": [],
   "source": []
  }
 ],
 "metadata": {
  "kernelspec": {
   "display_name": "school",
   "language": "python",
   "name": "python3"
  },
  "language_info": {
   "codemirror_mode": {
    "name": "ipython",
    "version": 3
   },
   "file_extension": ".py",
   "mimetype": "text/x-python",
   "name": "python",
   "nbconvert_exporter": "python",
   "pygments_lexer": "ipython3",
   "version": "3.9.16"
  },
  "orig_nbformat": 4
 },
 "nbformat": 4,
 "nbformat_minor": 2
}
