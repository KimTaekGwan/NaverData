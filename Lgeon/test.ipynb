{
 "cells": [
  {
   "cell_type": "code",
   "execution_count": 1,
   "metadata": {},
   "outputs": [],
   "source": [
    "from PyNaver import Naver\n",
    "\n",
    "from dotenv import load_dotenv\n",
    "import os\n",
    "\n",
    "load_dotenv()\n",
    "\n",
    "# 애플리케이션 인증 정보\n",
    "client_id = os.getenv(\"client_id\")\n",
    "client_secret = os.getenv(\"client_secret\")\n",
    "\n",
    "# 네이버 API 인스턴스 생성\n",
    "api = Naver(client_id, client_secret)"
   ]
  },
  {
   "cell_type": "code",
   "execution_count": null,
   "metadata": {},
   "outputs": [
    {
     "name": "stdout",
     "output_type": "stream",
     "text": [
      "1 {'title': '어린이 간식 아기주스 엘더베리 음료수 <b>엘더하이</b> 아기 유아 쥬스', 'link': 'https://search.shopping.naver.com/gate.nhn?id=85119141984', 'image': 'https://shopping-phinf.pstatic.net/main_8511914/85119141984.jpg', 'lprice': '19900', 'hprice': '', 'mallName': '퓨어 fure', 'productId': '85119141984', 'productType': '2', 'brand': '', 'maker': '', 'category1': '출산/육아', 'category2': '아기간식', 'category3': '유아음료', 'category4': ''}\n",
      "2 {'title': '퓨어 아동용 <b>엘더하이</b> 음료 15p 100ml', 'link': 'https://search.shopping.naver.com/gate.nhn?id=39417537556', 'image': 'https://shopping-phinf.pstatic.net/main_3941753/39417537556.jpg', 'lprice': '31100', 'hprice': '', 'mallName': '11번가', 'productId': '39417537556', 'productType': '2', 'brand': '', 'maker': '', 'category1': '출산/육아', 'category2': '아기간식', 'category3': '유아음료', 'category4': ''}\n",
      "3 {'title': '퓨어 아동용 <b>엘더하이</b> 음료 15p 100ml - 국내위탁', 'link': 'https://search.shopping.naver.com/gate.nhn?id=39425057556', 'image': 'https://shopping-phinf.pstatic.net/main_3942505/39425057556.jpg', 'lprice': '27060', 'hprice': '', 'mallName': '티몬', 'productId': '39425057556', 'productType': '2', 'brand': '', 'maker': '', 'category1': '출산/육아', 'category2': '아기간식', 'category3': '유아음료', 'category4': ''}\n"
     ]
    }
   ],
   "source": [
    "import requests\n",
    "\n",
    "\n",
    "keyword = '엘더하이'\n",
    "\n",
    "url = 'https://openapi.naver.com/v1/search/shop.json'\n",
    "# https://redfox.tistory.com\n",
    "headers = {'X-Naver-Client-Id':client_id,\n",
    "           'X-Naver-Client-Secret':client_secret}\n",
    "\n",
    "params = {'query':keyword,\n",
    "          'display':100,\n",
    "          'start':1,\n",
    "          'sort':'sim'}\n",
    "\n",
    "r = requests.get(url, params = params, headers = headers)\n",
    "\n",
    "rescode = r.status_code\n",
    "if (rescode == 200):\n",
    "    j = r.json()\n",
    "    # for i, (title, link) in enumerate([(item['title'], item['link']) for item in j['items']][:10], start=1):\n",
    "    #     print(i, title, link)\n",
    "    for i, item in enumerate([item for item in j['items']][:3], start=1):\n",
    "        print(i, item)\n",
    "else:\n",
    "    print(\"Error Code:\" + rescode)"
   ]
  },
  {
   "cell_type": "code",
   "execution_count": 53,
   "metadata": {},
   "outputs": [
    {
     "name": "stdout",
     "output_type": "stream",
     "text": [
      "1 {'title': '퓨어 <b>엘더하이</b> 어린이음료 우리 아이 면역력 챙기기', 'link': 'https://blog.naver.com/hi_kira/223088954914', 'description': '그리고 <b>엘더하이</b> 어린이 음료수는 엘더베리 이외에도 12가지 이상의 다양한 과채가 들어있어요. 배,7-베리(블랙베리, 아사이베리, 라즈베리, 스트로베리, 크랜베리, 블랙커런트, 블랙베리), 열대과일... ', 'bloggername': 'HI, KIRA', 'bloggerlink': 'blog.naver.com/hi_kira', 'postdate': '20230429'}\n",
      "2 {'title': '어린이 면역 주스 추천 건강한 퓨어 <b>엘더하이</b> 아이 음료', 'link': 'https://blog.naver.com/wjdjd84/223056714207', 'description': '<b>엘더하이</b>는 엘더베리뿐 아니라 다양한 12가지 종류의 과채가 들어있어요. 아이들이 거부감 없이 맛있게 먹는게 엄마 입장에서 제일 좋았어요. 아무리 몸에 좋다한들 아이들이 안먹으면 말짱 꽝이잖아요. 정말..... ', 'bloggername': '행복한 쭈니요니 이야기', 'bloggerlink': 'blog.naver.com/wjdjd84', 'postdate': '20230327'}\n",
      "3 {'title': '퓨어 <b>엘더하이</b> 어린이음료로 감기예방과 면역력을 높여봐요', 'link': 'https://blog.naver.com/plussechki/223054892027', 'description': '<b>엘더하이</b>에는 엘더베리라는 농축액이 들어있는데요. 엘더베리라는 오래전부터 감기약 대신 먹는 민간 치료제로 유명하다고 해요. 비타민 A, B, C와 항산화 성분이 뛰어난 안토시아닌이 풍부하기 때문에 아이... ', 'bloggername': '슌이네 육아로그', 'bloggerlink': 'blog.naver.com/plussechki', 'postdate': '20230324'}\n"
     ]
    }
   ],
   "source": [
    "# 블로그 크롤링\n",
    "import requests\n",
    "\n",
    "keyword = '엘더하이'\n",
    "url = 'https://openapi.naver.com/v1/search/blog.json'\n",
    "headers = {'X-Naver-Client-Id':client_id,\n",
    "           'X-Naver-Client-Secret':client_secret}\n",
    "params = {'query':keyword,\n",
    "          'display':100,\n",
    "          'start':1,\n",
    "          'sort':'sim'}\n",
    "\n",
    "\n",
    "r = requests.get(url, params = params, headers = headers)\n",
    "\n",
    "rescode = r.status_code\n",
    "if (rescode == 200):\n",
    "    j = r.json()\n",
    "    # for i, (title, link) in enumerate([(item['title'], item['link']) for item in j['items']][:10], start=1):\n",
    "    #     print(i, title, link)\n",
    "    for i, item in enumerate([item for item in j['items']][:3], start=1):\n",
    "        print(i, item)\n",
    "else:\n",
    "    print(\"Error Code:\" + rescode)"
   ]
  },
  {
   "cell_type": "code",
   "execution_count": 54,
   "metadata": {},
   "outputs": [
    {
     "name": "stdout",
     "output_type": "stream",
     "text": [
      "1 {'title': '퓨어 <b>엘더하이</b> 건강한 어린이주스로 딱이네!', 'link': 'http://cafe.naver.com/imsanbu/65340109', 'description': '영양제 이런거보다 애들은 주스를 좋아하니까 아이들 면역력에 도움이 되는 성분이 함유된 건강한 어린이주스가 있음 좋을것같아서 찾아보다가 퓨어 <b>엘더하이</b>를 먹여보게 되었는데 아이가 정말 맛있게 잘 먹어주네요... ', 'cafename': '맘스홀릭 베이비 (320만 엄마들의 임신...', 'cafeurl': 'https://cafe.naver.com/imsanbu'}\n",
      "2 {'title': '[퓨어]감기를 달고 사는 우리 아이 면역력을 키워주세요! 퓨어 <b>엘더하이</b> (아이 음료) 체험단 100명 모집 (~...', 'link': 'http://cafe.naver.com/imsanbu/64863235', 'description': \"퓨어 <b>엘더하이</b> (아이 음료) 체험단 100명 모집 ● 이벤트 안내 * 응모기간 : 2월 20일 (월) ~ 2월 26(일) * 당첨자 발표 : 3월 2(목) 예정 * 당첨 제품/인원 [퓨어] <b>엘더하이</b> 1 BOX (15개입) / 100명 * 게시글 하단 '좋아요... \", 'cafename': '맘스홀릭 베이비 (320만 엄마들의 임신...', 'cafeurl': 'https://cafe.naver.com/imsanbu'}\n",
      "3 {'title': '면역력에 좋은 <b>엘더하이</b> 음료 추천', 'link': 'http://cafe.naver.com/imsanbu/65339683', 'description': '면연력에 좋은 <b>엘더하이</b> 어린이음료 요즘 우리집 최대 관심사 면역 ㅠㅠ 첫째가 감기에걸려오면 자연스레 둘째도 감기에 걸린다 ㅠㅠ 또 얼마전 폐렴에 걸려 병원에 입원을 한 둘째 ㅠㅠ 각종 바이러스로부터... ', 'cafename': '맘스홀릭 베이비 (320만 엄마들의 임신...', 'cafeurl': 'https://cafe.naver.com/imsanbu'}\n"
     ]
    }
   ],
   "source": [
    "# 카페 크롤링\n",
    "import requests\n",
    "\n",
    "keyword = '엘더하이'\n",
    "url = 'https://openapi.naver.com/v1/search/cafearticle.json'\n",
    "headers = {'X-Naver-Client-Id':client_id,\n",
    "           'X-Naver-Client-Secret':client_secret}\n",
    "params = {'query':keyword,\n",
    "          'display':100,\n",
    "          'start':1,\n",
    "          'sort':'sim'}\n",
    "\n",
    "\n",
    "r = requests.get(url, params = params, headers = headers)\n",
    "\n",
    "rescode = r.status_code\n",
    "if (rescode == 200):\n",
    "    j = r.json()\n",
    "    # for i, (title, link) in enumerate([(item['title'], item['link']) for item in j['items']][:10], start=1):\n",
    "    #     print(i, title, link)\n",
    "    for i, item in enumerate([item for item in j['items']][:3], start=1):\n",
    "        print(i, item)\n",
    "else:\n",
    "    print(\"Error Code:\" + rescode)\n",
    "    "
   ]
  },
  {
   "cell_type": "code",
   "execution_count": 86,
   "metadata": {},
   "outputs": [],
   "source": [
    "import requests\n",
    "\n",
    "def getdata_naverapi(url, keyword, params):\n",
    "    headers = {'X-Naver-Client-Id': client_id,\n",
    "               'X-Naver-Client-Secret': client_secret}\n",
    "   \n",
    "    \n",
    "    r = requests.get(url, params=params, headers=headers)\n",
    "    rescode = r.status_code\n",
    "    \n",
    "    if rescode == 200:\n",
    "        j = r.json()\n",
    "        # for i, item in enumerate(j['items'][:1], start=1):\n",
    "        #     print(i, item)\n",
    "        return j\n",
    "    else:\n",
    "        print(\"Error Code:\", rescode)\n",
    "\n",
    "\n",
    "\n",
    "url = 'https://openapi.naver.com/v1/search/blog.json' # api 주소\n",
    "keyword = '에라이시팔모르겠다' # 키워드\n",
    "# s 1~100 d = 99 / s >= 100 , d = 100\n",
    "total_params = []\n",
    "for s,d in ([1,99], [100,100]):\n",
    "    params = {'query': keyword,\n",
    "              'display': d,\n",
    "              'start': s,\n",
    "              'sort': 'sim'} #파라미터\n",
    "    total_params.append(params) \n",
    "\n",
    "\n",
    "data = []\n",
    "for params in total_params:\n",
    "    result = getdata_naverapi(url, keyword, params)\n",
    "    if result:\n",
    "        for i, item in enumerate(result['items'], start=1):\n",
    "            title = item['title']\n",
    "            link = item['link']\n",
    "            postdate = item['postdate']\n",
    "            description = item['description']\n",
    "            dic = {\n",
    "                'title': title,\n",
    "                'link': link,\n",
    "                'postdate': postdate,\n",
    "                'data': description\n",
    "            }\n",
    "            data.append(dic)\n",
    "\n"
   ]
  },
  {
   "cell_type": "code",
   "execution_count": 87,
   "metadata": {},
   "outputs": [
    {
     "data": {
      "text/plain": [
       "[{'title': '221026 요네즈 켄시 2022 TOUR 「변신」 라이브 후기... ',\n",
       "  'link': 'https://blog.naver.com/lemonviv1/222913507002',\n",
       "  'postdate': '20221028',\n",
       "  'data': '한국에서 10일 전부터 일기예보 챙겨봤는데 비 떠있어서 <b>에라이시팔</b> 했는데 이날 하루종일 한국인에게 완벽하게 최적화 된 날씨였다 뭐 먹었다가는 공연장 들어가서 다시 입으로 올라올까봐 안먹음 티비로... '},\n",
       " {'title': '221026 요네즈 켄시 2022 TOUR 「변신」 라이브 후기... ',\n",
       "  'link': 'https://blog.naver.com/lemonviv1/222913507002',\n",
       "  'postdate': '20221028',\n",
       "  'data': '한국에서 10일 전부터 일기예보 챙겨봤는데 비 떠있어서 <b>에라이시팔</b> 했는데 이날 하루종일 한국인에게 완벽하게 최적화 된 날씨였다 뭐 먹었다가는 공연장 들어가서 다시 입으로 올라올까봐 안먹음 티비로... '}]"
      ]
     },
     "execution_count": 87,
     "metadata": {},
     "output_type": "execute_result"
    }
   ],
   "source": [
    "data"
   ]
  },
  {
   "cell_type": "code",
   "execution_count": 89,
   "metadata": {},
   "outputs": [
    {
     "data": {
      "text/html": [
       "<div>\n",
       "<style scoped>\n",
       "    .dataframe tbody tr th:only-of-type {\n",
       "        vertical-align: middle;\n",
       "    }\n",
       "\n",
       "    .dataframe tbody tr th {\n",
       "        vertical-align: top;\n",
       "    }\n",
       "\n",
       "    .dataframe thead th {\n",
       "        text-align: right;\n",
       "    }\n",
       "</style>\n",
       "<table border=\"1\" class=\"dataframe\">\n",
       "  <thead>\n",
       "    <tr style=\"text-align: right;\">\n",
       "      <th></th>\n",
       "      <th>title</th>\n",
       "      <th>link</th>\n",
       "      <th>postdate</th>\n",
       "      <th>data</th>\n",
       "    </tr>\n",
       "  </thead>\n",
       "  <tbody>\n",
       "    <tr>\n",
       "      <th>1</th>\n",
       "      <td>221026 요네즈 켄시 2022 TOUR 「변신」 라이브 후기...</td>\n",
       "      <td>https://blog.naver.com/lemonviv1/222913507002</td>\n",
       "      <td>20221028</td>\n",
       "      <td>한국에서 10일 전부터 일기예보 챙겨봤는데 비 떠있어서 &lt;b&gt;에라이시팔&lt;/b&gt; 했는...</td>\n",
       "    </tr>\n",
       "  </tbody>\n",
       "</table>\n",
       "</div>"
      ],
      "text/plain": [
       "                                     title  \\\n",
       "1  221026 요네즈 켄시 2022 TOUR 「변신」 라이브 후기...    \n",
       "\n",
       "                                            link  postdate  \\\n",
       "1  https://blog.naver.com/lemonviv1/222913507002  20221028   \n",
       "\n",
       "                                                data  \n",
       "1  한국에서 10일 전부터 일기예보 챙겨봤는데 비 떠있어서 <b>에라이시팔</b> 했는...  "
      ]
     },
     "execution_count": 89,
     "metadata": {},
     "output_type": "execute_result"
    }
   ],
   "source": [
    "import pandas as pd\n",
    "\n",
    "df = pd.DataFrame(data)\n",
    "df.to_excel('에라이.xlsx')\n",
    "df[df['title'].duplicated()]"
   ]
  },
  {
   "cell_type": "code",
   "execution_count": 90,
   "metadata": {},
   "outputs": [
    {
     "name": "stdout",
     "output_type": "stream",
     "text": [
      "중복된 데이터: [{'title': '221026 요네즈 켄시 2022 TOUR 「변신」 라이브 후기... ', 'link': 'https://blog.naver.com/lemonviv1/222913507002', 'postdate': '20221028', 'data': '한국에서 10일 전부터 일기예보 챙겨봤는데 비 떠있어서 <b>에라이시팔</b> 했는데 이날 하루종일 한국인에게 완벽하게 최적화 된 날씨였다 뭐 먹었다가는 공연장 들어가서 다시 입으로 올라올까봐 안먹음 티비로... '}]\n"
     ]
    }
   ],
   "source": [
    "def find_duplicate_data(data):\n",
    "    duplicate_data = []\n",
    "    unique_data = set()\n",
    "\n",
    "    for item in data:\n",
    "        # 튜플로 변환하여 중복 여부를 확인\n",
    "        data_tuple = tuple(item.items())\n",
    "        if data_tuple in unique_data:\n",
    "            duplicate_data.append(item)\n",
    "        else:\n",
    "            unique_data.add(data_tuple)\n",
    "\n",
    "    return duplicate_data\n",
    "duplicate_data = find_duplicate_data(data)\n",
    "\n",
    "print(\"중복된 데이터:\", duplicate_data)\n",
    "\n",
    "\n"
   ]
  }
 ],
 "metadata": {
  "kernelspec": {
   "display_name": "base_3_7",
   "language": "python",
   "name": "python3"
  },
  "language_info": {
   "codemirror_mode": {
    "name": "ipython",
    "version": 3
   },
   "file_extension": ".py",
   "mimetype": "text/x-python",
   "name": "python",
   "nbconvert_exporter": "python",
   "pygments_lexer": "ipython3",
   "version": "3.7.16"
  },
  "orig_nbformat": 4
 },
 "nbformat": 4,
 "nbformat_minor": 2
}
